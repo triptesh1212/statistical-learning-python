{
 "cells": [
  {
   "cell_type": "code",
   "execution_count": 1,
   "id": "888c8353-4a52-4547-9544-c1e0876ac9b0",
   "metadata": {},
   "outputs": [],
   "source": [
    "import numpy as np\n",
    "import pandas as pd "
   ]
  },
  {
   "cell_type": "code",
   "execution_count": 2,
   "id": "9c2ab49b-ed08-4393-9aca-7481df1f2266",
   "metadata": {},
   "outputs": [
    {
     "name": "stdout",
     "output_type": "stream",
     "text": [
      "   Obs  X1  X2  X3      Y\n",
      "0    1   0   3   0    Red\n",
      "1    2   2   0   0    Red\n",
      "2    3   0   1   3    Red\n",
      "3    4   0   1   2  Green\n",
      "4    5  -1   0   1  Green\n",
      "5    6   1   1   1    Red\n"
     ]
    }
   ],
   "source": [
    "data = {\n",
    "    'Obs' : [1, 2, 3, 4, 5, 6],\n",
    "    'X1' : [0, 2, 0, 0, -1, 1],\n",
    "    'X2' : [3, 0, 1, 1, 0, 1],\n",
    "    'X3' : [0, 0, 3, 2, 1, 1],\n",
    "    'Y' : ['Red', 'Red', 'Red', 'Green', 'Green', 'Red']\n",
    "}\n",
    "\n",
    "df = pd.DataFrame(data)\n",
    "\n",
    "print(df)"
   ]
  },
  {
   "cell_type": "code",
   "execution_count": 4,
   "id": "8927d2f1-7a5f-4120-83e2-d6f0e120246b",
   "metadata": {},
   "outputs": [
    {
     "name": "stdout",
     "output_type": "stream",
     "text": [
      "   X1  X2  X3\n",
      "0   0   3   0\n",
      "1   2   0   0\n",
      "2   0   1   3\n",
      "3   0   1   2\n",
      "4  -1   0   1\n",
      "5   1   1   1\n"
     ]
    }
   ],
   "source": [
    "# create a new dataframe contatining X1, X2 and X3\n",
    "\n",
    "df_new = df[['X1', 'X2', 'X3']] # select multiple columns \n",
    "\n",
    "print(df_new)"
   ]
  },
  {
   "cell_type": "code",
   "execution_count": 5,
   "id": "7b287834-c879-4699-b982-54c6ecfa9390",
   "metadata": {},
   "outputs": [
    {
     "name": "stdout",
     "output_type": "stream",
     "text": [
      "0    3.000000\n",
      "1    2.000000\n",
      "2    3.162278\n",
      "3    2.236068\n",
      "4    1.414214\n",
      "5    1.732051\n",
      "dtype: float64\n"
     ]
    }
   ],
   "source": [
    "# compute the row-wise euclidean distance from the origin\n",
    "\n",
    "dist = np.sum(df_new ** 2, axis = 1)**0.5 # axis = 1 for sum across columns for each row.\n",
    "\n",
    "print(dist)"
   ]
  },
  {
   "cell_type": "code",
   "execution_count": 6,
   "id": "89eb1e55-fd9f-414f-b1a5-cf805472e740",
   "metadata": {},
   "outputs": [
    {
     "name": "stdout",
     "output_type": "stream",
     "text": [
      "   Obs  X1  X2  X3      Y  distance\n",
      "0    1   0   3   0    Red  3.000000\n",
      "1    2   2   0   0    Red  2.000000\n",
      "2    3   0   1   3    Red  3.162278\n",
      "3    4   0   1   2  Green  2.236068\n",
      "4    5  -1   0   1  Green  1.414214\n",
      "5    6   1   1   1    Red  1.732051\n"
     ]
    }
   ],
   "source": [
    "df['distance'] = dist\n",
    "\n",
    "print(df)"
   ]
  },
  {
   "cell_type": "code",
   "execution_count": 7,
   "id": "336725db-08fa-499e-afb2-47f4d523a85f",
   "metadata": {},
   "outputs": [
    {
     "data": {
      "text/html": [
       "<div>\n",
       "<style scoped>\n",
       "    .dataframe tbody tr th:only-of-type {\n",
       "        vertical-align: middle;\n",
       "    }\n",
       "\n",
       "    .dataframe tbody tr th {\n",
       "        vertical-align: top;\n",
       "    }\n",
       "\n",
       "    .dataframe thead th {\n",
       "        text-align: right;\n",
       "    }\n",
       "</style>\n",
       "<table border=\"1\" class=\"dataframe\">\n",
       "  <thead>\n",
       "    <tr style=\"text-align: right;\">\n",
       "      <th></th>\n",
       "      <th>Obs</th>\n",
       "      <th>X1</th>\n",
       "      <th>X2</th>\n",
       "      <th>X3</th>\n",
       "      <th>Y</th>\n",
       "      <th>distance</th>\n",
       "    </tr>\n",
       "  </thead>\n",
       "  <tbody>\n",
       "    <tr>\n",
       "      <th>4</th>\n",
       "      <td>5</td>\n",
       "      <td>-1</td>\n",
       "      <td>0</td>\n",
       "      <td>1</td>\n",
       "      <td>Green</td>\n",
       "      <td>1.414214</td>\n",
       "    </tr>\n",
       "  </tbody>\n",
       "</table>\n",
       "</div>"
      ],
      "text/plain": [
       "   Obs  X1  X2  X3      Y  distance\n",
       "4    5  -1   0   1  Green  1.414214"
      ]
     },
     "execution_count": 7,
     "metadata": {},
     "output_type": "execute_result"
    }
   ],
   "source": [
    "# find the neareast neighbour \n",
    "\n",
    "df.nsmallest(1, 'distance')"
   ]
  },
  {
   "cell_type": "code",
   "execution_count": 8,
   "id": "69f37a6e-b640-4bad-ac35-c5af5a1c789f",
   "metadata": {},
   "outputs": [
    {
     "data": {
      "text/html": [
       "<div>\n",
       "<style scoped>\n",
       "    .dataframe tbody tr th:only-of-type {\n",
       "        vertical-align: middle;\n",
       "    }\n",
       "\n",
       "    .dataframe tbody tr th {\n",
       "        vertical-align: top;\n",
       "    }\n",
       "\n",
       "    .dataframe thead th {\n",
       "        text-align: right;\n",
       "    }\n",
       "</style>\n",
       "<table border=\"1\" class=\"dataframe\">\n",
       "  <thead>\n",
       "    <tr style=\"text-align: right;\">\n",
       "      <th></th>\n",
       "      <th>Obs</th>\n",
       "      <th>X1</th>\n",
       "      <th>X2</th>\n",
       "      <th>X3</th>\n",
       "      <th>Y</th>\n",
       "      <th>distance</th>\n",
       "    </tr>\n",
       "  </thead>\n",
       "  <tbody>\n",
       "    <tr>\n",
       "      <th>4</th>\n",
       "      <td>5</td>\n",
       "      <td>-1</td>\n",
       "      <td>0</td>\n",
       "      <td>1</td>\n",
       "      <td>Green</td>\n",
       "      <td>1.414214</td>\n",
       "    </tr>\n",
       "    <tr>\n",
       "      <th>5</th>\n",
       "      <td>6</td>\n",
       "      <td>1</td>\n",
       "      <td>1</td>\n",
       "      <td>1</td>\n",
       "      <td>Red</td>\n",
       "      <td>1.732051</td>\n",
       "    </tr>\n",
       "    <tr>\n",
       "      <th>1</th>\n",
       "      <td>2</td>\n",
       "      <td>2</td>\n",
       "      <td>0</td>\n",
       "      <td>0</td>\n",
       "      <td>Red</td>\n",
       "      <td>2.000000</td>\n",
       "    </tr>\n",
       "  </tbody>\n",
       "</table>\n",
       "</div>"
      ],
      "text/plain": [
       "   Obs  X1  X2  X3      Y  distance\n",
       "4    5  -1   0   1  Green  1.414214\n",
       "5    6   1   1   1    Red  1.732051\n",
       "1    2   2   0   0    Red  2.000000"
      ]
     },
     "execution_count": 8,
     "metadata": {},
     "output_type": "execute_result"
    }
   ],
   "source": [
    "# find 3 neareast neighbours\n",
    "\n",
    "df.nsmallest(3, 'distance')"
   ]
  }
 ],
 "metadata": {
  "kernelspec": {
   "display_name": "Python 3 (ipykernel)",
   "language": "python",
   "name": "python3"
  },
  "language_info": {
   "codemirror_mode": {
    "name": "ipython",
    "version": 3
   },
   "file_extension": ".py",
   "mimetype": "text/x-python",
   "name": "python",
   "nbconvert_exporter": "python",
   "pygments_lexer": "ipython3",
   "version": "3.11.8"
  }
 },
 "nbformat": 4,
 "nbformat_minor": 5
}
