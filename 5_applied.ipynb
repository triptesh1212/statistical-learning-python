{
 "cells": [
  {
   "cell_type": "code",
   "execution_count": 113,
   "id": "ddb23e64-d674-45d2-b4eb-431450ade50c",
   "metadata": {},
   "outputs": [],
   "source": [
    "import numpy as np\n",
    "import pandas as pd \n",
    "import sklearn.metrics as metrics\n",
    "from sklearn.linear_model import LogisticRegression\n",
    "from sklearn.model_selection import train_test_split\n",
    "import statsmodels.formula.api as smf\n",
    "import seaborn as sns\n",
    "import matplotlib.pyplot as plt"
   ]
  },
  {
   "cell_type": "code",
   "execution_count": 114,
   "id": "b215981c-e8df-4e59-a65b-2e8342357eff",
   "metadata": {},
   "outputs": [],
   "source": [
    "def print_conf_matrix_stats(conf_mtrx):\n",
    "    \n",
    "    if len(conf_mtrx) != 2 or len(conf_mtrx[0]) != 2:\n",
    "        print(\"only 2x2 confusion matrices are supported.\")\n",
    "        return\n",
    "\n",
    "    TN, FP = conf_mtrx[0]\n",
    "    FN, TP = conf_mtrx[1]\n",
    "\n",
    "    total = TN + FP + FN + TP\n",
    "    accuracy = (TP + TN) / total \n",
    "    precision = TP / (TP + FP) \n",
    "    recall = TP / (TP + FN) \n",
    "    f1_score = 2 * precision * recall / (precision + recall) \n",
    "    \n",
    "    print(f\"Accuracy : {accuracy:.4f}\")\n",
    "    print(f\"Precision: {precision:.4f}\")\n",
    "    print(f\"Recall   : {recall:.4f}\")\n",
    "    print(f\"F1 Score : {f1_score:.4f}\")"
   ]
  },
  {
   "cell_type": "code",
   "execution_count": 115,
   "id": "7592be85-3652-416b-9aef-9ff48e018d02",
   "metadata": {},
   "outputs": [
    {
     "name": "stdout",
     "output_type": "stream",
     "text": [
      "   default  student      balance        income\n",
      "0        0        0   729.526495  44361.625074\n",
      "1        0        1   817.180407  12106.134700\n",
      "2        0        0  1073.549164  31767.138947\n",
      "3        0        0   529.250605  35704.493935\n",
      "4        0        0   785.655883  38463.495879\n"
     ]
    }
   ],
   "source": [
    "df = pd.read_csv('default.csv')\n",
    "\n",
    "df.drop('Unnamed: 0', axis = 1, inplace = True)\n",
    "\n",
    "df['default'] = df['default'].map({\"Yes\" : 1, \"No\" : 0})\n",
    "\n",
    "df['student'] = df['student'].map({\"Yes\" : 1, \"No\" : 0})\n",
    "\n",
    "print(df.head())"
   ]
  },
  {
   "cell_type": "code",
   "execution_count": 116,
   "id": "4ee33152-316d-4290-b02c-5826036a8ccd",
   "metadata": {},
   "outputs": [
    {
     "name": "stdout",
     "output_type": "stream",
     "text": [
      "           Predicted: 0  Predicted: 1\n",
      "Actual: 0          4825            21\n",
      "Actual: 1           108            46\n",
      "\n",
      "Accuracy : 0.9742\n",
      "Precision: 0.6866\n",
      "Recall   : 0.2987\n",
      "F1 Score : 0.4163\n"
     ]
    }
   ],
   "source": [
    "# (5)\n",
    "\n",
    "train, test = train_test_split(df, test_size=0.5)\n",
    "\n",
    "X_train = train[['balance', 'income']]\n",
    "y_train = train['default']\n",
    "\n",
    "X_test = test[['balance', 'income']]\n",
    "y_test = test['default']\n",
    "\n",
    "model = LogisticRegression().fit(X_train, y_train)\n",
    "\n",
    "# predict\n",
    "y_pred_lr = model.predict(X_test)\n",
    "\n",
    "confusion_matrix = metrics.confusion_matrix(y_test, y_pred_lr)\n",
    "\n",
    "confusion_matrix_df = pd.DataFrame(confusion_matrix, columns=['Predicted: 0', 'Predicted: 1'], index=['Actual: 0', 'Actual: 1'])\n",
    "\n",
    "print(confusion_matrix_df)\n",
    "\n",
    "print()\n",
    "\n",
    "print_conf_matrix_stats(confusion_matrix)"
   ]
  },
  {
   "cell_type": "code",
   "execution_count": 117,
   "id": "f2167387-d4bf-49da-be82-12cecc1ff4f8",
   "metadata": {},
   "outputs": [
    {
     "name": "stdout",
     "output_type": "stream",
     "text": [
      "           Predicted: 0  Predicted: 1\n",
      "Actual: 0          4817            23\n",
      "Actual: 1           111            49\n",
      "\n",
      "Accuracy : 0.9732\n",
      "Precision: 0.6806\n",
      "Recall   : 0.3063\n",
      "F1 Score : 0.4224\n"
     ]
    }
   ],
   "source": [
    "train, test = train_test_split(df, test_size=0.5)\n",
    "\n",
    "X_train = train[['balance', 'income', 'student']]\n",
    "y_train = train['default']\n",
    "\n",
    "X_test = test[['balance', 'income', 'student']]\n",
    "y_test = test['default']\n",
    "\n",
    "model = LogisticRegression().fit(X_train, y_train)\n",
    "\n",
    "# predict\n",
    "y_pred_lr = model.predict(X_test)\n",
    "\n",
    "confusion_matrix = metrics.confusion_matrix(y_test, y_pred_lr)\n",
    "\n",
    "confusion_matrix_df = pd.DataFrame(confusion_matrix, columns=['Predicted: 0', 'Predicted: 1'], index=['Actual: 0', 'Actual: 1'])\n",
    "\n",
    "print(confusion_matrix_df)\n",
    "\n",
    "print()\n",
    "\n",
    "print_conf_matrix_stats(confusion_matrix)"
   ]
  },
  {
   "cell_type": "code",
   "execution_count": 118,
   "id": "50710a6c-0d49-480c-8db3-450ae782a1f2",
   "metadata": {},
   "outputs": [
    {
     "name": "stdout",
     "output_type": "stream",
     "text": [
      "Optimization terminated successfully.\n",
      "         Current function value: 0.073982\n",
      "         Iterations 10\n"
     ]
    },
    {
     "data": {
      "text/html": [
       "<table class=\"simpletable\">\n",
       "<caption>Logit Regression Results</caption>\n",
       "<tr>\n",
       "  <th>Dep. Variable:</th>        <td>default</td>     <th>  No. Observations:  </th>   <td>  5000</td>  \n",
       "</tr>\n",
       "<tr>\n",
       "  <th>Model:</th>                 <td>Logit</td>      <th>  Df Residuals:      </th>   <td>  4997</td>  \n",
       "</tr>\n",
       "<tr>\n",
       "  <th>Method:</th>                 <td>MLE</td>       <th>  Df Model:          </th>   <td>     2</td>  \n",
       "</tr>\n",
       "<tr>\n",
       "  <th>Date:</th>            <td>Sun, 03 Aug 2025</td> <th>  Pseudo R-squ.:     </th>   <td>0.5081</td>  \n",
       "</tr>\n",
       "<tr>\n",
       "  <th>Time:</th>                <td>15:12:05</td>     <th>  Log-Likelihood:    </th>  <td> -369.91</td> \n",
       "</tr>\n",
       "<tr>\n",
       "  <th>converged:</th>             <td>True</td>       <th>  LL-Null:           </th>  <td> -751.93</td> \n",
       "</tr>\n",
       "<tr>\n",
       "  <th>Covariance Type:</th>     <td>nonrobust</td>    <th>  LLR p-value:       </th> <td>1.236e-166</td>\n",
       "</tr>\n",
       "</table>\n",
       "<table class=\"simpletable\">\n",
       "<tr>\n",
       "      <td></td>         <th>coef</th>     <th>std err</th>      <th>z</th>      <th>P>|z|</th>  <th>[0.025</th>    <th>0.975]</th>  \n",
       "</tr>\n",
       "<tr>\n",
       "  <th>Intercept</th> <td>  -12.5202</td> <td>    0.676</td> <td>  -18.532</td> <td> 0.000</td> <td>  -13.844</td> <td>  -11.196</td>\n",
       "</tr>\n",
       "<tr>\n",
       "  <th>balance</th>   <td>    0.0063</td> <td>    0.000</td> <td>   17.686</td> <td> 0.000</td> <td>    0.006</td> <td>    0.007</td>\n",
       "</tr>\n",
       "<tr>\n",
       "  <th>income</th>    <td> 2.106e-05</td> <td> 7.27e-06</td> <td>    2.896</td> <td> 0.004</td> <td> 6.81e-06</td> <td> 3.53e-05</td>\n",
       "</tr>\n",
       "</table><br/><br/>Possibly complete quasi-separation: A fraction 0.21 of observations can be<br/>perfectly predicted. This might indicate that there is complete<br/>quasi-separation. In this case some parameters will not be identified."
      ],
      "text/latex": [
       "\\begin{center}\n",
       "\\begin{tabular}{lclc}\n",
       "\\toprule\n",
       "\\textbf{Dep. Variable:}   &     default      & \\textbf{  No. Observations:  } &     5000    \\\\\n",
       "\\textbf{Model:}           &      Logit       & \\textbf{  Df Residuals:      } &     4997    \\\\\n",
       "\\textbf{Method:}          &       MLE        & \\textbf{  Df Model:          } &        2    \\\\\n",
       "\\textbf{Date:}            & Sun, 03 Aug 2025 & \\textbf{  Pseudo R-squ.:     } &   0.5081    \\\\\n",
       "\\textbf{Time:}            &     15:12:05     & \\textbf{  Log-Likelihood:    } &   -369.91   \\\\\n",
       "\\textbf{converged:}       &       True       & \\textbf{  LL-Null:           } &   -751.93   \\\\\n",
       "\\textbf{Covariance Type:} &    nonrobust     & \\textbf{  LLR p-value:       } & 1.236e-166  \\\\\n",
       "\\bottomrule\n",
       "\\end{tabular}\n",
       "\\begin{tabular}{lcccccc}\n",
       "                   & \\textbf{coef} & \\textbf{std err} & \\textbf{z} & \\textbf{P$> |$z$|$} & \\textbf{[0.025} & \\textbf{0.975]}  \\\\\n",
       "\\midrule\n",
       "\\textbf{Intercept} &     -12.5202  &        0.676     &   -18.532  &         0.000        &      -13.844    &      -11.196     \\\\\n",
       "\\textbf{balance}   &       0.0063  &        0.000     &    17.686  &         0.000        &        0.006    &        0.007     \\\\\n",
       "\\textbf{income}    &    2.106e-05  &     7.27e-06     &     2.896  &         0.004        &     6.81e-06    &     3.53e-05     \\\\\n",
       "\\bottomrule\n",
       "\\end{tabular}\n",
       "%\\caption{Logit Regression Results}\n",
       "\\end{center}\n",
       "\n",
       "Possibly complete quasi-separation: A fraction 0.21 of observations can be \\newline\n",
       " perfectly predicted. This might indicate that there is complete \\newline\n",
       " quasi-separation. In this case some parameters will not be identified."
      ],
      "text/plain": [
       "<class 'statsmodels.iolib.summary.Summary'>\n",
       "\"\"\"\n",
       "                           Logit Regression Results                           \n",
       "==============================================================================\n",
       "Dep. Variable:                default   No. Observations:                 5000\n",
       "Model:                          Logit   Df Residuals:                     4997\n",
       "Method:                           MLE   Df Model:                            2\n",
       "Date:                Sun, 03 Aug 2025   Pseudo R-squ.:                  0.5081\n",
       "Time:                        15:12:05   Log-Likelihood:                -369.91\n",
       "converged:                       True   LL-Null:                       -751.93\n",
       "Covariance Type:            nonrobust   LLR p-value:                1.236e-166\n",
       "==============================================================================\n",
       "                 coef    std err          z      P>|z|      [0.025      0.975]\n",
       "------------------------------------------------------------------------------\n",
       "Intercept    -12.5202      0.676    -18.532      0.000     -13.844     -11.196\n",
       "balance        0.0063      0.000     17.686      0.000       0.006       0.007\n",
       "income      2.106e-05   7.27e-06      2.896      0.004    6.81e-06    3.53e-05\n",
       "==============================================================================\n",
       "\n",
       "Possibly complete quasi-separation: A fraction 0.21 of observations can be\n",
       "perfectly predicted. This might indicate that there is complete\n",
       "quasi-separation. In this case some parameters will not be identified.\n",
       "\"\"\""
      ]
     },
     "execution_count": 118,
     "metadata": {},
     "output_type": "execute_result"
    }
   ],
   "source": [
    "# (6.a) \n",
    "\n",
    "f = 'default ~ balance + income'\n",
    "\n",
    "model = smf.logit(formula=f, data=train).fit()\n",
    "\n",
    "model.summary()"
   ]
  },
  {
   "cell_type": "code",
   "execution_count": 119,
   "id": "8f78694b-9958-4831-a7e8-87c00dbe93fe",
   "metadata": {},
   "outputs": [],
   "source": [
    "# (6.b)\n",
    "\n",
    "def boot_fn(df, indices):\n",
    "    \n",
    "    sample = df.iloc[indices]\n",
    "\n",
    "    f = 'default ~ income + balance'\n",
    "    \n",
    "    model = smf.logit(formula = f, data = sample).fit()\n",
    "    \n",
    "    return model.params[['income', 'balance']].values"
   ]
  },
  {
   "cell_type": "code",
   "execution_count": 120,
   "id": "5896e8c5-e209-4f65-b3cd-724be2d079cf",
   "metadata": {},
   "outputs": [
    {
     "name": "stdout",
     "output_type": "stream",
     "text": [
      "Optimization terminated successfully.\n",
      "         Current function value: 0.072580\n",
      "         Iterations 10\n",
      "Optimization terminated successfully.\n",
      "         Current function value: 0.076950\n",
      "         Iterations 10\n",
      "Optimization terminated successfully.\n",
      "         Current function value: 0.078993\n",
      "         Iterations 10\n",
      "Optimization terminated successfully.\n",
      "         Current function value: 0.074343\n",
      "         Iterations 10\n",
      "Optimization terminated successfully.\n",
      "         Current function value: 0.078179\n",
      "         Iterations 10\n",
      "Optimization terminated successfully.\n",
      "         Current function value: 0.078371\n",
      "         Iterations 10\n",
      "Optimization terminated successfully.\n",
      "         Current function value: 0.083806\n",
      "         Iterations 10\n",
      "Optimization terminated successfully.\n",
      "         Current function value: 0.078510\n",
      "         Iterations 10\n",
      "Optimization terminated successfully.\n",
      "         Current function value: 0.079593\n",
      "         Iterations 10\n",
      "Optimization terminated successfully.\n",
      "         Current function value: 0.075041\n",
      "         Iterations 10\n",
      "Bootstrap SE for income:  0.000003\n",
      "Bootstrap SE for balance: 0.000300\n"
     ]
    }
   ],
   "source": [
    "# (6.c)\n",
    "\n",
    "n_bootstraps = 10\n",
    "\n",
    "boot_coefs = np.zeros((n_bootstraps, 2))  # [income, balance]\n",
    "\n",
    "for i in range(n_bootstraps):\n",
    "    indices = np.random.choice(len(df), size=len(df), replace=True)\n",
    "    boot_coefs[i] = boot_fn(df, indices)\n",
    "\n",
    "se_income, se_balance = boot_coefs.std(axis=0)\n",
    "\n",
    "print(f\"Bootstrap SE for income:  {se_income:.6f}\")\n",
    "print(f\"Bootstrap SE for balance: {se_balance:.6f}\")    "
   ]
  },
  {
   "cell_type": "code",
   "execution_count": 121,
   "id": "e6da0a15-42de-45e0-b023-5e3c14c66581",
   "metadata": {},
   "outputs": [
    {
     "name": "stdout",
     "output_type": "stream",
     "text": [
      "   Year   Lag1   Lag2   Lag3   Lag4   Lag5    Volume  Today  Direction\n",
      "0  1990  0.816  1.572 -3.936 -0.229 -3.484  0.154976 -0.270          0\n",
      "1  1990 -0.270  0.816  1.572 -3.936 -0.229  0.148574 -2.576          0\n",
      "2  1990 -2.576 -0.270  0.816  1.572 -3.936  0.159837  3.514          1\n",
      "3  1990  3.514 -2.576 -0.270  0.816  1.572  0.161630  0.712          1\n",
      "4  1990  0.712  3.514 -2.576 -0.270  0.816  0.153728  1.178          1\n"
     ]
    }
   ],
   "source": [
    "# (7) \n",
    "\n",
    "df = pd.read_csv('weekly.csv')\n",
    "\n",
    "df.drop('Unnamed: 0', axis=1, inplace=True)\n",
    "\n",
    "df['Direction'] = df['Direction'].map({\"Up\" : 1, \"Down\" : 0})\n",
    "\n",
    "print(df.head())"
   ]
  },
  {
   "cell_type": "code",
   "execution_count": 122,
   "id": "4dbff338-b427-453e-8bf2-f2b128004c0a",
   "metadata": {},
   "outputs": [
    {
     "name": "stdout",
     "output_type": "stream",
     "text": [
      "Optimization terminated successfully.\n",
      "         Current function value: 0.683297\n",
      "         Iterations 4\n"
     ]
    },
    {
     "data": {
      "text/html": [
       "<table class=\"simpletable\">\n",
       "<caption>Logit Regression Results</caption>\n",
       "<tr>\n",
       "  <th>Dep. Variable:</th>       <td>Direction</td>    <th>  No. Observations:  </th>  <td>  1089</td> \n",
       "</tr>\n",
       "<tr>\n",
       "  <th>Model:</th>                 <td>Logit</td>      <th>  Df Residuals:      </th>  <td>  1086</td> \n",
       "</tr>\n",
       "<tr>\n",
       "  <th>Method:</th>                 <td>MLE</td>       <th>  Df Model:          </th>  <td>     2</td> \n",
       "</tr>\n",
       "<tr>\n",
       "  <th>Date:</th>            <td>Sun, 03 Aug 2025</td> <th>  Pseudo R-squ.:     </th> <td>0.005335</td>\n",
       "</tr>\n",
       "<tr>\n",
       "  <th>Time:</th>                <td>15:12:07</td>     <th>  Log-Likelihood:    </th> <td> -744.11</td>\n",
       "</tr>\n",
       "<tr>\n",
       "  <th>converged:</th>             <td>True</td>       <th>  LL-Null:           </th> <td> -748.10</td>\n",
       "</tr>\n",
       "<tr>\n",
       "  <th>Covariance Type:</th>     <td>nonrobust</td>    <th>  LLR p-value:       </th>  <td>0.01848</td>\n",
       "</tr>\n",
       "</table>\n",
       "<table class=\"simpletable\">\n",
       "<tr>\n",
       "      <td></td>         <th>coef</th>     <th>std err</th>      <th>z</th>      <th>P>|z|</th>  <th>[0.025</th>    <th>0.975]</th>  \n",
       "</tr>\n",
       "<tr>\n",
       "  <th>Intercept</th> <td>    0.2212</td> <td>    0.061</td> <td>    3.599</td> <td> 0.000</td> <td>    0.101</td> <td>    0.342</td>\n",
       "</tr>\n",
       "<tr>\n",
       "  <th>Lag1</th>      <td>   -0.0387</td> <td>    0.026</td> <td>   -1.477</td> <td> 0.140</td> <td>   -0.090</td> <td>    0.013</td>\n",
       "</tr>\n",
       "<tr>\n",
       "  <th>Lag2</th>      <td>    0.0602</td> <td>    0.027</td> <td>    2.270</td> <td> 0.023</td> <td>    0.008</td> <td>    0.112</td>\n",
       "</tr>\n",
       "</table>"
      ],
      "text/latex": [
       "\\begin{center}\n",
       "\\begin{tabular}{lclc}\n",
       "\\toprule\n",
       "\\textbf{Dep. Variable:}   &    Direction     & \\textbf{  No. Observations:  } &     1089    \\\\\n",
       "\\textbf{Model:}           &      Logit       & \\textbf{  Df Residuals:      } &     1086    \\\\\n",
       "\\textbf{Method:}          &       MLE        & \\textbf{  Df Model:          } &        2    \\\\\n",
       "\\textbf{Date:}            & Sun, 03 Aug 2025 & \\textbf{  Pseudo R-squ.:     } &  0.005335   \\\\\n",
       "\\textbf{Time:}            &     15:12:07     & \\textbf{  Log-Likelihood:    } &   -744.11   \\\\\n",
       "\\textbf{converged:}       &       True       & \\textbf{  LL-Null:           } &   -748.10   \\\\\n",
       "\\textbf{Covariance Type:} &    nonrobust     & \\textbf{  LLR p-value:       } &  0.01848    \\\\\n",
       "\\bottomrule\n",
       "\\end{tabular}\n",
       "\\begin{tabular}{lcccccc}\n",
       "                   & \\textbf{coef} & \\textbf{std err} & \\textbf{z} & \\textbf{P$> |$z$|$} & \\textbf{[0.025} & \\textbf{0.975]}  \\\\\n",
       "\\midrule\n",
       "\\textbf{Intercept} &       0.2212  &        0.061     &     3.599  &         0.000        &        0.101    &        0.342     \\\\\n",
       "\\textbf{Lag1}      &      -0.0387  &        0.026     &    -1.477  &         0.140        &       -0.090    &        0.013     \\\\\n",
       "\\textbf{Lag2}      &       0.0602  &        0.027     &     2.270  &         0.023        &        0.008    &        0.112     \\\\\n",
       "\\bottomrule\n",
       "\\end{tabular}\n",
       "%\\caption{Logit Regression Results}\n",
       "\\end{center}"
      ],
      "text/plain": [
       "<class 'statsmodels.iolib.summary.Summary'>\n",
       "\"\"\"\n",
       "                           Logit Regression Results                           \n",
       "==============================================================================\n",
       "Dep. Variable:              Direction   No. Observations:                 1089\n",
       "Model:                          Logit   Df Residuals:                     1086\n",
       "Method:                           MLE   Df Model:                            2\n",
       "Date:                Sun, 03 Aug 2025   Pseudo R-squ.:                0.005335\n",
       "Time:                        15:12:07   Log-Likelihood:                -744.11\n",
       "converged:                       True   LL-Null:                       -748.10\n",
       "Covariance Type:            nonrobust   LLR p-value:                   0.01848\n",
       "==============================================================================\n",
       "                 coef    std err          z      P>|z|      [0.025      0.975]\n",
       "------------------------------------------------------------------------------\n",
       "Intercept      0.2212      0.061      3.599      0.000       0.101       0.342\n",
       "Lag1          -0.0387      0.026     -1.477      0.140      -0.090       0.013\n",
       "Lag2           0.0602      0.027      2.270      0.023       0.008       0.112\n",
       "==============================================================================\n",
       "\"\"\""
      ]
     },
     "execution_count": 122,
     "metadata": {},
     "output_type": "execute_result"
    }
   ],
   "source": [
    "# (7.a)  Fit a logistic regression model that predicts Direction using Lag1 and Lag2\n",
    "\n",
    "f = 'Direction ~ Lag1 + Lag2'\n",
    "\n",
    "model = smf.logit(formula=f, data=df).fit()\n",
    "\n",
    "model.summary()"
   ]
  },
  {
   "cell_type": "code",
   "execution_count": 123,
   "id": "33a79498-47ea-4fff-922a-8d0f904c3516",
   "metadata": {},
   "outputs": [
    {
     "name": "stdout",
     "output_type": "stream",
     "text": [
      "Optimization terminated successfully.\n",
      "         Current function value: 0.683147\n",
      "         Iterations 4\n",
      "                           Logit Regression Results                           \n",
      "==============================================================================\n",
      "Dep. Variable:              Direction   No. Observations:                 1088\n",
      "Model:                          Logit   Df Residuals:                     1085\n",
      "Method:                           MLE   Df Model:                            2\n",
      "Date:                Sun, 03 Aug 2025   Pseudo R-squ.:                0.005387\n",
      "Time:                        15:12:08   Log-Likelihood:                -743.26\n",
      "converged:                       True   LL-Null:                       -747.29\n",
      "Covariance Type:            nonrobust   LLR p-value:                   0.01785\n",
      "==============================================================================\n",
      "                 coef    std err          z      P>|z|      [0.025      0.975]\n",
      "------------------------------------------------------------------------------\n",
      "Intercept      0.2232      0.061      3.630      0.000       0.103       0.344\n",
      "Lag1          -0.0384      0.026     -1.466      0.143      -0.090       0.013\n",
      "Lag2           0.0608      0.027      2.291      0.022       0.009       0.113\n",
      "==============================================================================\n"
     ]
    }
   ],
   "source": [
    "# (7.b) Fit a logistic regression model that predicts Direction using Lag1 and Lag2 using all but the first observation.\n",
    "\n",
    "df_exclude_first = df.iloc[1:]  # or df.drop(index=0)\n",
    "\n",
    "model_exclude_first = smf.logit(formula=f, data=df_exclude_first).fit()\n",
    "\n",
    "print(model_exclude_first.summary())\n"
   ]
  },
  {
   "cell_type": "code",
   "execution_count": 124,
   "id": "4a3119e8-f782-45fc-9392-408456f8f028",
   "metadata": {},
   "outputs": [
    {
     "name": "stdout",
     "output_type": "stream",
     "text": [
      "              Predicted: Down  Predicted: Up\n",
      "Actual: Down                0              1\n",
      "Actual: Up                  0              0\n"
     ]
    }
   ],
   "source": [
    "# (7.c)\n",
    "\n",
    "df_first = df.iloc[[0]]\n",
    "\n",
    "prediction = (model_exclude_first.predict(df_first) > 0.5)\n",
    "\n",
    "actual_direction = [df.loc[0, 'Direction']]\n",
    "\n",
    "# metrics.confusion_matrix(y_true, y_pred)\n",
    "\n",
    "confusion_matrix = metrics.confusion_matrix(actual_direction, prediction)\n",
    "\n",
    "confusion_matrix_df = pd.DataFrame(confusion_matrix, columns=['Predicted: Down', 'Predicted: Up'], index=['Actual: Down', 'Actual: Up'])\n",
    "\n",
    "print(confusion_matrix_df)"
   ]
  },
  {
   "cell_type": "code",
   "execution_count": 125,
   "id": "ba72d881-3e0e-407a-ad6e-2ce68d84855c",
   "metadata": {},
   "outputs": [
    {
     "name": "stdout",
     "output_type": "stream",
     "text": [
      "              Predicted: Down  Predicted: Up\n",
      "Actual: Down               34            450\n",
      "Actual: Up                 40            565\n"
     ]
    }
   ],
   "source": [
    "# (7.d)\n",
    "\n",
    "y_true = []\n",
    "y_pred = []\n",
    "\n",
    "for i in range(len(df)):\n",
    "    train_df = df.drop(index=i)\n",
    "    test_df = df.iloc[[i]]\n",
    "\n",
    "    f = 'Direction ~ Lag1 + Lag2'\n",
    "    model = smf.logit(formula=f, data=train_df).fit(disp=0)\n",
    "\n",
    "    pred_direction = (model.predict(test_df) > 0.5)\n",
    "\n",
    "    true_direction = df.loc[i, 'Direction']\n",
    "\n",
    "    y_true.append(true_direction)\n",
    "    y_pred.append(pred_direction)\n",
    "\n",
    "# metrics.confusion_matrix(y_true, y_pred)\n",
    "\n",
    "confusion_matrix = metrics.confusion_matrix(y_true, y_pred)\n",
    "\n",
    "confusion_matrix_df = pd.DataFrame(confusion_matrix, columns=['Predicted: Down', 'Predicted: Up'], index=['Actual: Down', 'Actual: Up'])\n",
    "\n",
    "print(confusion_matrix_df)   "
   ]
  },
  {
   "cell_type": "code",
   "execution_count": 126,
   "id": "f9627b25-76e9-46b5-821c-f2a273042e9a",
   "metadata": {},
   "outputs": [],
   "source": [
    "# (8.a) what is n and what is p ?\n",
    "\n",
    "rng = np.random. default_rng (1)\n",
    "x = rng.normal(size =100)\n",
    "y = x - 2 * x**2 + rng.normal(size =100)\n",
    "\n",
    "# n = 100 and p = 2 "
   ]
  },
  {
   "cell_type": "code",
   "execution_count": 127,
   "id": "72e5ba34-45fa-4734-a142-11a517212495",
   "metadata": {},
   "outputs": [
    {
     "data": {
      "text/plain": [
       "Text(0, 0.5, '$Y$')"
      ]
     },
     "execution_count": 127,
     "metadata": {},
     "output_type": "execute_result"
    },
    {
     "data": {
      "image/png": "[encoded data removed]",
      "text/plain": [
       "<Figure size 640x480 with 1 Axes>"
      ]
     },
     "metadata": {},
     "output_type": "display_data"
    }
   ],
   "source": [
    "# (8.b) Create a scatterplot of X against Y\n",
    "\n",
    "ax = sns.scatterplot(x=x, y=y)\n",
    "plt.xlabel('$X$')\n",
    "plt.ylabel('$Y$')"
   ]
  },
  {
   "cell_type": "code",
   "execution_count": 128,
   "id": "c232421f-c121-4313-99b0-d0569a8448e4",
   "metadata": {},
   "outputs": [],
   "source": [
    "# The shape of the plot has two extrema and hence the function must be at least a cubic or quartic polynomial."
   ]
  },
  {
   "cell_type": "code",
   "execution_count": 129,
   "id": "1833e217-5d66-46ab-a32c-8d20cdfede5d",
   "metadata": {},
   "outputs": [
    {
     "name": "stdout",
     "output_type": "stream",
     "text": [
      "         x1        x2        x3        x4         y\n",
      "0  0.345584  0.119428  0.041273  0.014263 -0.544554\n",
      "1  0.821618  0.675056  0.554639  0.455701  0.333950\n",
      "2  0.330437  0.109189  0.036080  0.011922 -0.013532\n",
      "3 -1.303157  1.698219 -2.213046  2.883947 -4.030442\n",
      "4  0.905356  0.819669  0.742092  0.671858  0.484861\n"
     ]
    }
   ],
   "source": [
    "# (8.c) \n",
    "\n",
    "df = pd.DataFrame({'x1' : x, 'x2' : x**2, 'x3' : x**3, 'x4' : x**4, 'y' : y})\n",
    "\n",
    "print(df.head())"
   ]
  },
  {
   "cell_type": "code",
   "execution_count": 130,
   "id": "b4945993-f95e-4cd8-a8f2-f572e9896fe3",
   "metadata": {},
   "outputs": [],
   "source": [
    "def perform_loocv(df, f, seed):\n",
    "\n",
    "    errors = []\n",
    "    \n",
    "    for i in range(len(df)):\n",
    "        train_df = df.drop(index=i)\n",
    "        test_df = df.iloc[[i]]\n",
    "    \n",
    "        model = smf.ols(formula = f, data = train_df).fit()\n",
    "\n",
    "        prediction = model.predict(test_df)\n",
    "        \n",
    "        actual = test_df['y'].values[0]\n",
    "        \n",
    "        error = (prediction.values[0] - actual)**2\n",
    "\n",
    "        # prediction and test_df['y'] are pandas series with one row\n",
    "        \n",
    "        errors.append(error)\n",
    "\n",
    "    mse = np.mean(errors)\n",
    "    return mse  "
   ]
  },
  {
   "cell_type": "code",
   "execution_count": 131,
   "id": "1211ad07-04a3-414c-81e1-79cecf48882d",
   "metadata": {},
   "outputs": [
    {
     "name": "stdout",
     "output_type": "stream",
     "text": [
      "6.633029839181984 1.1229368563419686 1.3017965489358863 1.3323942694179332\n"
     ]
    }
   ],
   "source": [
    "f1 = 'y ~ x1'\n",
    "f2 = 'y ~ x1 + x2'\n",
    "f3 = 'y ~ x1 + x2 + x3'\n",
    "f4 = 'y ~ x1 + x2 + x3 + x4'\n",
    "\n",
    "formulae = [f1, f2, f3, f4]\n",
    "\n",
    "loocv_err = []\n",
    "\n",
    "for f in formulae:\n",
    "    err = perform_loocv(df, f, 1)\n",
    "    loocv_err.append(err)\n",
    "\n",
    "print(*loocv_err)"
   ]
  },
  {
   "cell_type": "code",
   "execution_count": 132,
   "id": "f9a724e2-f683-4386-8ccb-75b9580f4859",
   "metadata": {},
   "outputs": [
    {
     "name": "stdout",
     "output_type": "stream",
     "text": [
      "6.633029839181984 1.1229368563419686 1.3017965489358863 1.3323942694179332\n"
     ]
    }
   ],
   "source": [
    "# (8.d) Repeat (c) using another random seed\n",
    "\n",
    "loocv_err = []\n",
    "\n",
    "for f in formulae:\n",
    "    err = perform_loocv(df, f, 7)\n",
    "    loocv_err.append(err)\n",
    "\n",
    "print(*loocv_err)"
   ]
  },
  {
   "cell_type": "code",
   "execution_count": 133,
   "id": "0ac40ef9-1a62-4b3e-a76d-1e2ec16b8de3",
   "metadata": {},
   "outputs": [],
   "source": [
    "# The test error estimates are identical\n",
    "# This is to be expected as LOOCV is deterministic"
   ]
  },
  {
   "cell_type": "code",
   "execution_count": 134,
   "id": "f1166f0d-7063-4de0-aa49-afa6a1bd1f53",
   "metadata": {},
   "outputs": [],
   "source": [
    "# (8.e) 2nd order polynomial has the smallest loocv error and it's expected "
   ]
  },
  {
   "cell_type": "code",
   "execution_count": 135,
   "id": "bba9ce10-5c51-417b-be84-e50bb4a0f122",
   "metadata": {},
   "outputs": [
    {
     "name": "stdout",
     "output_type": "stream",
     "text": [
      "      CRIM    ZN  INDUS  CHAS    NOX     RM   AGE     DIS  RAD  TAX  PTRATIO  \\\n",
      "0  0.00632  18.0   2.31     0  0.538  6.575  65.2  4.0900    1  296     15.3   \n",
      "1  0.02731   0.0   7.07     0  0.469  6.421  78.9  4.9671    2  242     17.8   \n",
      "2  0.02729   0.0   7.07     0  0.469  7.185  61.1  4.9671    2  242     17.8   \n",
      "3  0.03237   0.0   2.18     0  0.458  6.998  45.8  6.0622    3  222     18.7   \n",
      "4  0.06905   0.0   2.18     0  0.458  7.147  54.2  6.0622    3  222     18.7   \n",
      "\n",
      "   LSTAT  MEDV  CAT. MEDV  \n",
      "0   4.98  24.0          0  \n",
      "1   9.14  21.6          0  \n",
      "2   4.03  34.7          1  \n",
      "3   2.94  33.4          1  \n",
      "4   5.33  36.2          1  \n"
     ]
    }
   ],
   "source": [
    "# (9) \n",
    "\n",
    "df = pd.read_csv('BostonHousing.csv')\n",
    "\n",
    "print(df.head())"
   ]
  },
  {
   "cell_type": "code",
   "execution_count": 136,
   "id": "17c6e6c2-0320-4247-9088-03bfb574d7b6",
   "metadata": {},
   "outputs": [
    {
     "name": "stdout",
     "output_type": "stream",
     "text": [
      "22.532806324110677\n"
     ]
    }
   ],
   "source": [
    "# (9.a) provide an estimate for the population mean of medv\n",
    "\n",
    "df_MEDV = df[['MEDV']]\n",
    "\n",
    "print(df_MEDV.mean().values[0])"
   ]
  },
  {
   "cell_type": "code",
   "execution_count": 137,
   "id": "5211f9eb-77c0-409c-af35-492f7899d86d",
   "metadata": {},
   "outputs": [
    {
     "name": "stdout",
     "output_type": "stream",
     "text": [
      "0.40886114749753505\n"
     ]
    }
   ],
   "source": [
    "# (9.b) provide an estimate for the standard error of sample mean\n",
    "\n",
    "l = len(df_MEDV) ** 0.5\n",
    "\n",
    "sample_standard_deviation = df_MEDV.std().values[0]\n",
    "\n",
    "standard_error = sample_standard_deviation / l\n",
    "\n",
    "print(standard_error)"
   ]
  },
  {
   "cell_type": "code",
   "execution_count": 138,
   "id": "bdad2b7c-0c04-4bc1-8106-7a83ec4f75c3",
   "metadata": {},
   "outputs": [
    {
     "name": "stdout",
     "output_type": "stream",
     "text": [
      "0.413018479146135\n"
     ]
    }
   ],
   "source": [
    "# (9.c) Now estimate the standard error using the bootstrap\n",
    "\n",
    "# The standard deviation of the bootstrap estimates is the standard error\n",
    "\n",
    "rho = 10000\n",
    "\n",
    "medv = df['MEDV'].values\n",
    "\n",
    "bootstrap_means = []\n",
    "\n",
    "for _ in range(rho):\n",
    "    sample = np.random.choice(medv, size=len(medv), replace=True)\n",
    "    bootstrap_means.append(np.mean(sample))\n",
    "\n",
    "bootstrap_means = np.array(bootstrap_means)\n",
    "\n",
    "standard_error = bootstrap_means.std()\n",
    "\n",
    "print(standard_error)"
   ]
  },
  {
   "cell_type": "code",
   "execution_count": 139,
   "id": "02d91044-0c7f-421e-81e5-c9287433a6f9",
   "metadata": {},
   "outputs": [
    {
     "name": "stdout",
     "output_type": "stream",
     "text": [
      "21.715084029115605 23.35052861910575\n"
     ]
    }
   ],
   "source": [
    "# (9.d) 95 % confidence interval \n",
    "\n",
    "print(df_MEDV.mean().values[0] - 2 * std_errors.mean(), df_MEDV.mean().values[0] + 2 * std_errors.mean())"
   ]
  },
  {
   "cell_type": "code",
   "execution_count": 140,
   "id": "b6cceb8d-9e94-440f-bd93-f26c5cefdae3",
   "metadata": {},
   "outputs": [
    {
     "name": "stdout",
     "output_type": "stream",
     "text": [
      "21.2\n"
     ]
    }
   ],
   "source": [
    "# (9.e) Estimate for the median value of medv in the population\n",
    "\n",
    "print(np.median(df['MEDV']))"
   ]
  },
  {
   "cell_type": "code",
   "execution_count": 141,
   "id": "4e4bd33e-5b31-461b-bb0c-7b2b0117fd4e",
   "metadata": {},
   "outputs": [
    {
     "name": "stdout",
     "output_type": "stream",
     "text": [
      "0.37998801293593426\n"
     ]
    }
   ],
   "source": [
    "# (9.f) Estimate the standard error of medv using the bootstrap\n",
    "\n",
    "rho = 10000\n",
    "\n",
    "medv = df['MEDV'].values\n",
    "\n",
    "medians = []\n",
    "\n",
    "for _ in range(rho):\n",
    "    sample = np.random.choice(medv, size=len(medv), replace=True)\n",
    "\n",
    "    medians.append(np.median(sample))\n",
    "\n",
    "medians = np.array(medians)\n",
    "\n",
    "standard_error = medians.std()\n",
    "    \n",
    "print(standard_error)"
   ]
  },
  {
   "cell_type": "code",
   "execution_count": 142,
   "id": "3956ce6c-f2b8-43fe-86d4-89048c8c1b26",
   "metadata": {},
   "outputs": [
    {
     "name": "stdout",
     "output_type": "stream",
     "text": [
      "12.75\n"
     ]
    }
   ],
   "source": [
    "# (9.g) Based on this data set, provide an estimate for the tenth percentile of medv in Boston census tracts\n",
    "\n",
    "tenth_percentile = np.percentile(df['MEDV'], 10)\n",
    "\n",
    "print(tenth_percentile)"
   ]
  },
  {
   "cell_type": "code",
   "execution_count": 143,
   "id": "6ecfd60d-a8b7-461a-8aaa-76ad491fd1e6",
   "metadata": {},
   "outputs": [
    {
     "name": "stdout",
     "output_type": "stream",
     "text": [
      "0.5021828590264705\n"
     ]
    }
   ],
   "source": [
    "# (9.h) Use the bootstrap to estimate the standard error of tenth percentile of medv\n",
    "\n",
    "rho = 10000\n",
    "\n",
    "medv = df['MEDV'].values\n",
    "\n",
    "tenth_percentiles = []\n",
    "\n",
    "for _ in range(rho):\n",
    "    sample = np.random.choice(medv, size=len(medv), replace=True)\n",
    "\n",
    "    tenth_percentiles.append(np.percentile(sample, 10))\n",
    "\n",
    "tenth_percentiles = np.array(tenth_percentiles)\n",
    "\n",
    "standard_error = tenth_percentiles.std()\n",
    "    \n",
    "print(standard_error)"
   ]
  }
 ],
 "metadata": {
  "kernelspec": {
   "display_name": "Python 3 (ipykernel)",
   "language": "python",
   "name": "python3"
  },
  "language_info": {
   "codemirror_mode": {
    "name": "ipython",
    "version": 3
   },
   "file_extension": ".py",
   "mimetype": "text/x-python",
   "name": "python",
   "nbconvert_exporter": "python",
   "pygments_lexer": "ipython3",
   "version": "3.11.8"
  }
 },
 "nbformat": 4,
 "nbformat_minor": 5
}
